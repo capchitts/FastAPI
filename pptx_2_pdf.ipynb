{
 "cells": [
  {
   "cell_type": "code",
   "execution_count": null,
   "id": "e4c3936d",
   "metadata": {},
   "outputs": [],
   "source": [
    "import os\n",
    "import comtypes.client\n",
    "from tqdm import tqdm"
   ]
  },
  {
   "cell_type": "code",
   "execution_count": null,
   "id": "516ba542",
   "metadata": {},
   "outputs": [],
   "source": [
    "def convert_pptx_to_pdf(input_path, output_path):\n",
    "    powerpoint = comtypes.client.CreateObject(\"PowerPoint.Application\")\n",
    "    powerpoint.Visible = 1\n",
    "\n",
    "    try:\n",
    "        presentation = powerpoint.Presentations.Open(input_path, WithWindow=False)\n",
    "        presentation.SaveAs(output_path, FileFormat=32)  # 32 = PDF\n",
    "        presentation.Close()\n",
    "    finally:\n",
    "        powerpoint.Quit()\n",
    "\n",
    "\n",
    "def batch_convert_pptx_to_pdf(pptx_dir, pdf_dir):\n",
    "    os.makedirs(pdf_dir, exist_ok=True)\n",
    "\n",
    "    pptx_files = [f for f in os.listdir(pptx_dir) if f.lower().endswith(\".pptx\")]\n",
    "\n",
    "    print(f\"Found {len(pptx_files)} .pptx files.\")\n",
    "\n",
    "    for pptx_file in tqdm(pptx_files, desc=\"Converting PPTX to PDF\"):\n",
    "        pptx_path = os.path.join(pptx_dir, pptx_file)\n",
    "        pdf_filename = os.path.splitext(pptx_file)[0] + \".pdf\"\n",
    "        pdf_path = os.path.join(pdf_dir, pdf_filename)\n",
    "\n",
    "        if os.path.exists(pdf_path):\n",
    "            continue  # Skip already converted files\n",
    "\n",
    "        try:\n",
    "            convert_pptx_to_pdf(pptx_path, pdf_path)\n",
    "        except Exception as e:\n",
    "            print(f\"Failed to convert {pptx_file}: {e}\")\n",
    "\n",
    "    print(\"Conversion complete.\")\n",
    "\n",
    "\n",
    "# Example usage\n",
    "if __name__ == \"__main__\":\n",
    "    pptx_dir = r\"C:\\path\\to\\pptx_files\"\n",
    "    pdf_dir = r\"C:\\path\\to\\pdf_files\"\n",
    "\n",
    "    batch_convert_pptx_to_pdf(pptx_dir, pdf_dir)\n"
   ]
  }
 ],
 "metadata": {
  "language_info": {
   "name": "python"
  }
 },
 "nbformat": 4,
 "nbformat_minor": 5
}
